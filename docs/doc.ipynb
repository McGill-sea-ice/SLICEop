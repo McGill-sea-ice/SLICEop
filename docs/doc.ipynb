{
 "cells": [
  {
   "cell_type": "markdown",
   "id": "03dfe5b0-cfcd-467d-af63-fd60a3437c81",
   "metadata": {},
   "source": [
    "# SLICEop\n",
    "Operational forecast of the St. Lawrence river's freeze-up date near Montreal, QC, Canada"
   ]
  },
  {
   "cell_type": "markdown",
   "id": "3e7bbd39-f4ab-45c6-b258-c882ccdbc143",
   "metadata": {},
   "source": [
    "# Documentation and Usage\n",
    "\n",
    "We use September total cloud cover, November snowfall and December 2 m – air temperature from the [ECMWF's seasonal forecast system](https://www.ecmwf.int/en/forecasts/documentation-and-support/long-range)\n",
    "to perform a multiple linear regression that predicts the date on which the water temperature near Montreal drops to the freezing point and ice formation begins. \n",
    "\n",
    "The water temperature and actual date of freeze-up are observed at the [Longueuil water treatment plant](https://www.longueuil.quebec/fr/eau-potable) near Montreal.\n",
    "\n",
    "The three predictor variables have been found to best predict the freeze-up date based on [extensive testing by Amélie Bouchat](https://github.com/McGill-sea-ice/SLICE).\n",
    "They also tested the use of machine learning for the forecast, which was found to perform worse on medium to seasonal time scales. "
   ]
  },
  {
   "cell_type": "markdown",
   "id": "25707c4f-294a-42ab-8d85-572df0e4b9ce",
   "metadata": {},
   "source": [
    "## Preparation\n",
    "\n",
    "After cloning the repository\n",
    "\n",
    "```\n",
    "git clone git@github.com:McGill-sea-ice/SLICEop.git\n",
    "```\n",
    "\n",
    "the two main requirements are\n",
    "\n",
    "1. having an account with [Copernicus](https://www.copernicus.eu/en) to access the [ECMWF](https://www.ecmwf.int/)'s data through their [Climate Data Store](https://cds.climate.copernicus.eu/), to be used by the python module `cdsapi`. Follow the instructions under `1. Setup the CDS API personal access token` on [https://cds.climate.copernicus.eu/how-to-api](https://cds.climate.copernicus.eu/how-to-api) and then\n",
    "2. create a python environment with the required packages specified in `SLICEop/environment.yml`, e.g. with\n",
    "   \n",
    "    ```\n",
    "    conda env create -f environment.yml\n",
    "    ```\n",
    "\n",
    "    If you choose another way to create the environment with conda, make sure that the environment is called `sliceop`. If you create the environment in another way, like `virtualenv`,     make sure the environment is loaded by changing the lines under `#load conda environment` in `SLICEop/SLICEop/auto/run_*.sh`.\n",
    "\n",
    "Further make sure to update the paths in `SLICEop/setup.sh` and run `source setup.sh` to set the environment variables."
   ]
  },
  {
   "cell_type": "markdown",
   "id": "5fb21888-4161-4dbb-9d65-5bad75586bf8",
   "metadata": {},
   "source": [
    "## Initialization"
   ]
  },
  {
   "cell_type": "markdown",
   "id": "8c8b1092-4efa-4991-976d-599d8f3dd427",
   "metadata": {},
   "source": [
    "## Testing"
   ]
  },
  {
   "cell_type": "markdown",
   "id": "e22fbd15-8a5a-4d79-9c17-d733f90c135e",
   "metadata": {},
   "source": [
    "## Operational use"
   ]
  },
  {
   "cell_type": "code",
   "execution_count": null,
   "id": "c9d1ae8c-d164-43cd-be0c-14765a2798c8",
   "metadata": {},
   "outputs": [],
   "source": []
  }
 ],
 "metadata": {
  "kernelspec": {
   "display_name": "Python 3 (ipykernel)",
   "language": "python",
   "name": "python3"
  },
  "language_info": {
   "codemirror_mode": {
    "name": "ipython",
    "version": 3
   },
   "file_extension": ".py",
   "mimetype": "text/x-python",
   "name": "python",
   "nbconvert_exporter": "python",
   "pygments_lexer": "ipython3",
   "version": "3.10.17"
  }
 },
 "nbformat": 4,
 "nbformat_minor": 5
}
